{
 "cells": [
  {
   "cell_type": "markdown",
   "metadata": {},
   "source": [
    "Notebook 1. Processes data from subreddit \"Malicious Compliance\", then cleans the data using a custom stopword list \n",
    "created using the top words from Malicious Compliance and ProRevenge, the subreddit processed in [Notebook 2](./Tiffany_Baker_Project_3_Reddit_Notebook_2) ."
   ]
  },
  {
   "cell_type": "code",
   "execution_count": 263,
   "metadata": {},
   "outputs": [],
   "source": [
    "#Retrieve data online and load\n",
    "import requests as req \n",
    "import json\n",
    "import re\n",
    "import time\n",
    "from datetime import datetime, timezone\n",
    "\n",
    "#NLP libraries\n",
    "from nltk.stem import WordNetLemmatizer as lemma\n",
    "from nltk.tokenize import sent_tokenize, word_tokenize, regexp_tokenize, RegexpTokenizer, TweetTokenizer\n",
    "from nltk.corpus import stopwords\n",
    "\n",
    "\n",
    "#Variables to use for NLP\n",
    "stop = stopwords.words('english')\n",
    "punc = \"?!,.;:)(\"\n",
    "\n",
    "#Pandas\n",
    "import pandas as pd\n",
    "\n",
    "#Plot and model\n",
    "import matplotlib.pyplot as plt\n",
    "import seaborn as sns\n",
    "from sklearn.model_selection import train_test_split, GridSearchCV\n",
    "from sklearn.linear_model import LogisticRegression\n",
    "from sklearn.tree import DecisionTreeClassifier, plot_tree, export_text\n",
    "from sklearn.pipeline import Pipeline\n",
    "from sklearn.naive_bayes import BernoulliNB\n",
    "from sklearn.metrics import confusion_matrix, plot_confusion_matrix, accuracy_score\n",
    "from sklearn.feature_extraction.text import CountVectorizer, TfidfVectorizer\n",
    "from sklearn.dummy import DummyClassifier"
   ]
  },
  {
   "cell_type": "code",
   "execution_count": 2,
   "metadata": {},
   "outputs": [],
   "source": [
    "#function to request data using pushshift\n",
    "#takes\n",
    "def so_fresh(n,sub,post_type):\n",
    "    '''Takes in a number n, name of the subreddit(all lowercase), and post_type(either submissions, comments, or subreddit).\n",
    "    Creates a request url to obtain data through the pushshift api from reddit.\n",
    "    Returns a list of n dataframes comprised of 100 reddit post/comments.\n",
    "    \n",
    "    example: sub = sub_pull(100,\"prorevenge\",\"submission\") \n",
    "    will run 100 iterations of the function to obtain posts from the prorevenge subreddit'''\n",
    "    \n",
    "    df_1 = []\n",
    "    start = 1600822671\n",
    "    for i in range(n):\n",
    "        red_url = f\"https://api.pushshift.io/reddit/search/{post_type}/?subreddit={sub}&before={start}&size=100\"\n",
    "        reqs = req.get(red_url, timeout = 30)\n",
    "        stream = reqs.json()\n",
    "        body = stream[\"data\"]\n",
    "        df = pd.DataFrame(body)[['selftext','subreddit','created_utc']]\n",
    "        start=df['created_utc'].min()\n",
    "        df_1.append(df)\n",
    "        time.sleep(30)\n",
    "        print(f\"Pull {i} complete\") #Chuck suggested to Tanner- incorporated here\n",
    "  \n",
    "    return df_1\n",
    "        \n",
    "        "
   ]
  },
  {
   "cell_type": "code",
   "execution_count": 4,
   "metadata": {},
   "outputs": [
    {
     "name": "stdout",
     "output_type": "stream",
     "text": [
      "Pull 0 complete\n",
      "Pull 1 complete\n",
      "Pull 2 complete\n",
      "Pull 3 complete\n",
      "Pull 4 complete\n",
      "Pull 5 complete\n",
      "Pull 6 complete\n",
      "Pull 7 complete\n",
      "Pull 8 complete\n",
      "Pull 9 complete\n",
      "Pull 10 complete\n",
      "Pull 11 complete\n",
      "Pull 12 complete\n",
      "Pull 13 complete\n",
      "Pull 14 complete\n",
      "Pull 15 complete\n",
      "Pull 16 complete\n",
      "Pull 17 complete\n",
      "Pull 18 complete\n",
      "Pull 19 complete\n",
      "Pull 20 complete\n",
      "Pull 21 complete\n",
      "Pull 22 complete\n",
      "Pull 23 complete\n",
      "Pull 24 complete\n",
      "Pull 25 complete\n",
      "Pull 26 complete\n",
      "Pull 27 complete\n",
      "Pull 28 complete\n",
      "Pull 29 complete\n",
      "Pull 30 complete\n",
      "Pull 31 complete\n",
      "Pull 32 complete\n",
      "Pull 33 complete\n",
      "Pull 34 complete\n",
      "Pull 35 complete\n",
      "Pull 36 complete\n",
      "Pull 37 complete\n",
      "Pull 38 complete\n",
      "Pull 39 complete\n",
      "Pull 40 complete\n",
      "Pull 41 complete\n",
      "Pull 42 complete\n",
      "Pull 43 complete\n",
      "Pull 44 complete\n",
      "Pull 45 complete\n",
      "Pull 46 complete\n",
      "Pull 47 complete\n",
      "Pull 48 complete\n",
      "Pull 49 complete\n",
      "Pull 50 complete\n",
      "Pull 51 complete\n",
      "Pull 52 complete\n",
      "Pull 53 complete\n",
      "Pull 54 complete\n",
      "Pull 55 complete\n",
      "Pull 56 complete\n",
      "Pull 57 complete\n",
      "Pull 58 complete\n",
      "Pull 59 complete\n",
      "Pull 60 complete\n",
      "Pull 61 complete\n",
      "Pull 62 complete\n",
      "Pull 63 complete\n",
      "Pull 64 complete\n",
      "Pull 65 complete\n",
      "Pull 66 complete\n",
      "Pull 67 complete\n",
      "Pull 68 complete\n",
      "Pull 69 complete\n",
      "Pull 70 complete\n",
      "Pull 71 complete\n",
      "Pull 72 complete\n",
      "Pull 73 complete\n",
      "Pull 74 complete\n",
      "Pull 75 complete\n",
      "Pull 76 complete\n",
      "Pull 77 complete\n",
      "Pull 78 complete\n",
      "Pull 79 complete\n",
      "Pull 80 complete\n",
      "Pull 81 complete\n",
      "Pull 82 complete\n",
      "Pull 83 complete\n",
      "Pull 84 complete\n",
      "Pull 85 complete\n",
      "Pull 86 complete\n",
      "Pull 87 complete\n",
      "Pull 88 complete\n",
      "Pull 89 complete\n",
      "Pull 90 complete\n",
      "Pull 91 complete\n",
      "Pull 92 complete\n",
      "Pull 93 complete\n",
      "Pull 94 complete\n",
      "Pull 95 complete\n",
      "Pull 96 complete\n",
      "Pull 97 complete\n",
      "Pull 98 complete\n",
      "Pull 99 complete\n"
     ]
    }
   ],
   "source": [
    "#call the function\n",
    "sub = so_fresh(100, \"maliciouscompliance\", \"submission\")"
   ]
  },
  {
   "cell_type": "code",
   "execution_count": 5,
   "metadata": {
    "scrolled": true
   },
   "outputs": [],
   "source": [
    "def so_clean(df = sub):\n",
    "    '''Takes in a dataframe, drops duplicates and nulls, then reports the change in shape\n",
    "    default value is the sub created when so_fresh is called\n",
    "    \n",
    "    example: so_clean(df)\n",
    "    returns df after dedupe and removing nulls'''\n",
    "    \n",
    "\n",
    "    df_sub= pd.concat(df)\n",
    "    print (f\"Starting dimensions: {df_sub.shape}\")\n",
    "    #drop duplicate rows based on values in \"selftext\"\n",
    "    #this removes all the posts that have been deleted\n",
    "    #or removed\n",
    "    df_sub.drop_duplicates([\"selftext\"], keep = False, inplace = True)\n",
    "    #drop nulls\n",
    "    df_sub.dropna(how = \"any\", inplace = True)\n",
    "    print (f\"Ending dimensions: {df_sub.shape}\")\n",
    "    \n",
    "    return df_sub\n"
   ]
  },
  {
   "cell_type": "code",
   "execution_count": 200,
   "metadata": {},
   "outputs": [],
   "source": [
    "df_malicious=so_clean(sub)"
   ]
  },
  {
   "cell_type": "code",
   "execution_count": 134,
   "metadata": {},
   "outputs": [],
   "source": [
    "def stantokenia(df):\n",
    "    '''Function accepts dataframe. Tokenizes contents of the \"selftext\" column. Returns dataframe'''\n",
    "    #create a column in the data frame of tokens comprised of the lowercase components of selftext\n",
    "    #reddit text is similar to tweet text as opposed to standard speech\n",
    "    #used TweetTokenizer to split my strings-http://www.nltk.org/api/nltk.tokenize.html#module-nltk.tokenize.casual\n",
    "    tokenizer = TweetTokenizer()\n",
    "    df[\"tokens\"] = df[\"selftext\"].apply(tokenizer.tokenize)\n",
    "    return df"
   ]
  },
  {
   "cell_type": "code",
   "execution_count": 165,
   "metadata": {},
   "outputs": [],
   "source": [
    "df_malicious = stantokenia(df_malicious)"
   ]
  },
  {
   "cell_type": "code",
   "execution_count": 166,
   "metadata": {},
   "outputs": [],
   "source": [
    "def rosa_parks(text):\n",
    "    '''Lemmatizer. Accepts text, returns list'''\n",
    "    \n",
    "    lemmatizer = lemma()\n",
    "    return [lemmatizer.lemmatize(w) for w in text] #from stack overflow, create function to apply to data frame"
   ]
  },
  {
   "cell_type": "code",
   "execution_count": 167,
   "metadata": {},
   "outputs": [],
   "source": [
    "def roses(df):\n",
    "    '''Function accepts dataframe. Applies lemmatizer to create \"lemmas\" and filters through stopwords to create\n",
    "    \"unique\". Returns dataframe'''\n",
    "    \n",
    "    df[\"lemmas\"]= df[\"tokens\"].apply(rosa_parks)\n",
    "    df[\"unique\"] = df[\"lemmas\"].apply(lambda x: [word for word in x if word not in (stop)])\n",
    "    return df\n"
   ]
  },
  {
   "cell_type": "code",
   "execution_count": 168,
   "metadata": {},
   "outputs": [],
   "source": [
    "df_malicious = roses(df_malicious)"
   ]
  },
  {
   "cell_type": "markdown",
   "metadata": {},
   "source": [
    "Found this code on stackoverflow. Creates a list of the items in a dataframe series by iterating through the series. Then, counts the occurence of each token in the list using .value_counts() on a dataframe created from the\n",
    "list of words and counts of occurences. \n",
    "\n",
    "The custom stopwords list is the intersection of tokens appearing in both top 500 lists."
   ]
  },
  {
   "cell_type": "code",
   "execution_count": 71,
   "metadata": {},
   "outputs": [],
   "source": [
    "full_list = []  # list containing all words of all texts\n",
    "for elmnt in df_malicious['unique']:  # loop over lists in df\n",
    "    full_list += elmnt  # append elements of lists to full list\n",
    "\n",
    "val_counts = pd.Series(full_list).value_counts()  # make temporary Series to count\n",
    "\n",
    "mal_top_500_count = val_counts.head(500).astype(int).tolist()\n",
    "mal_top_500_index = val_counts.head(500).index.tolist()\n",
    "\n",
    "mal_top_500 = list(zip(mal_top_500_index, mal_top_500_count))\n",
    "\n"
   ]
  },
  {
   "cell_type": "markdown",
   "metadata": {},
   "source": [
    "retrieve stored lists of top tokens from other process"
   ]
  },
  {
   "cell_type": "code",
   "execution_count": 72,
   "metadata": {},
   "outputs": [],
   "source": [
    "%store -r pro_top_500\n",
    "%store -r pro_top_500_index"
   ]
  },
  {
   "cell_type": "markdown",
   "metadata": {},
   "source": [
    "Combine top 500 tokens from each subreddit, look for tokens in both lists. \n",
    "Create list \"top_of_the_top\" that represents the intersection of these lists.\n",
    "These tokens become custom stopwords.\n",
    "Export the custom stopwords list to use in [Notebook 2](./Tiffany_Baker_Project_3_Reddit_Notebook_2) to clean the data."
   ]
  },
  {
   "cell_type": "code",
   "execution_count": 78,
   "metadata": {},
   "outputs": [
    {
     "name": "stdout",
     "output_type": "stream",
     "text": [
      "Stored 'top_of_the_top' (list)\n"
     ]
    }
   ],
   "source": [
    "combined_top_words = set(pro_top_500_index)&set(mal_top_500_index) \n",
    "top_of_the_top = sorted(combined_top_words, key = lambda k : pro_top_500_index.index(k))\n",
    "%store top_of_the_top \n",
    "#so I can use the same list on the other subreddit info"
   ]
  },
  {
   "cell_type": "code",
   "execution_count": 169,
   "metadata": {},
   "outputs": [
    {
     "data": {
      "text/plain": [
       "421"
      ]
     },
     "execution_count": 169,
     "metadata": {},
     "output_type": "execute_result"
    }
   ],
   "source": [
    "len(top_of_the_top)"
   ]
  },
  {
   "cell_type": "markdown",
   "metadata": {},
   "source": [
    "Apply custom stop word list to pre-cleaned tokens in \"unique\" column. Creates a new column, \"custom\""
   ]
  },
  {
   "cell_type": "code",
   "execution_count": 123,
   "metadata": {},
   "outputs": [],
   "source": [
    "def remix(df):\n",
    "    '''Function to apply custom stop word list (\"top_of_the_top\") to tokens. \n",
    "    Takes dataframe, returns dataframe. Adds column \"custom\" that removes tokens in \"unique\" that are \n",
    "    in custom stop words list.'''\n",
    "    \n",
    "    df[\"custom\"] = df[\"unique\"].apply(lambda x: [word for word in x if word not in (top_of_the_top)])\n",
    "    return df\n",
    "\n"
   ]
  },
  {
   "cell_type": "code",
   "execution_count": 170,
   "metadata": {},
   "outputs": [],
   "source": [
    "df_malicious = remix(df_malicious)"
   ]
  },
  {
   "cell_type": "markdown",
   "metadata": {},
   "source": [
    "Import final cleaned dataframe from Notebook 2 and create one dataframe from both subreddits' dataframes"
   ]
  },
  {
   "cell_type": "code",
   "execution_count": 79,
   "metadata": {},
   "outputs": [],
   "source": [
    "%store -r df_prorevenge\n",
    "\n",
    "df_reddit =pd.concat([df_prorevenge, df_malicious], axis = 0)"
   ]
  },
  {
   "cell_type": "markdown",
   "metadata": {},
   "source": [
    "Vectorize tokens in \"custom\" column. Created a dunce function to return the dataframe. Using the dunce function\n",
    "as a parameter in TFIDF Vectorizer. See http://www.davidsbatista.net/blog/2018/02/28/TfidfVectorizer/ for more information"
   ]
  },
  {
   "cell_type": "code",
   "execution_count": 193,
   "metadata": {},
   "outputs": [],
   "source": [
    "def dunce(doc):\n",
    "    return doc\n",
    "\n",
    "tfidf = TfidfVectorizer(\n",
    "    analyzer='word',\n",
    "    tokenizer=dunce,\n",
    "    preprocessor=dunce,\n",
    "    token_pattern=None)  \n",
    "\n",
    "docs = df_reddit[\"custom\"].tolist()"
   ]
  },
  {
   "cell_type": "code",
   "execution_count": 194,
   "metadata": {},
   "outputs": [],
   "source": [
    "tfidf.fit(docs)\n",
    "vector_2 = tfidf.transform(docs)"
   ]
  },
  {
   "cell_type": "markdown",
   "metadata": {},
   "source": [
    "Ran a CountVectorizer to see if it makes a difference here. It didn't make a difference because I circumvented the \n",
    "tokenizer and preprocessor by passing the already tokenized list through the dunce function. "
   ]
  },
  {
   "cell_type": "code",
   "execution_count": 195,
   "metadata": {},
   "outputs": [],
   "source": [
    "cvec = CountVectorizer(lowercase = False, tokenizer = dunce, preprocessor = dunce, token_pattern = None)\n",
    "\n",
    "cvec.fit(docs)\n",
    "cvector_2 = cvec.transform(docs)"
   ]
  },
  {
   "cell_type": "code",
   "execution_count": 137,
   "metadata": {},
   "outputs": [
    {
     "name": "stdout",
     "output_type": "stream",
     "text": [
      "Stored 'df_reddit' (DataFrame)\n"
     ]
    }
   ],
   "source": [
    "%store df_reddit"
   ]
  },
  {
   "cell_type": "code",
   "execution_count": 164,
   "metadata": {},
   "outputs": [],
   "source": [
    "df_reddit.to_csv(r'reddit.csv')"
   ]
  },
  {
   "cell_type": "markdown",
   "metadata": {},
   "source": [
    "Check y value counts. Dataset is pretty evenly balanced between both subreddits."
   ]
  },
  {
   "cell_type": "code",
   "execution_count": 196,
   "metadata": {},
   "outputs": [
    {
     "data": {
      "text/plain": [
       "MaliciousCompliance    6473\n",
       "ProRevenge             5879\n",
       "Name: subreddit, dtype: int64"
      ]
     },
     "execution_count": 196,
     "metadata": {},
     "output_type": "execute_result"
    }
   ],
   "source": [
    "y.value_counts()"
   ]
  },
  {
   "cell_type": "markdown",
   "metadata": {},
   "source": [
    "Drop rows with nulls. Then split data using train-test-split"
   ]
  },
  {
   "cell_type": "code",
   "execution_count": 197,
   "metadata": {},
   "outputs": [],
   "source": [
    "df_reddit = df_reddit.dropna(axis=0, how= 'any')"
   ]
  },
  {
   "cell_type": "code",
   "execution_count": 268,
   "metadata": {},
   "outputs": [],
   "source": [
    "X = vector_2.toarray()\n",
    "y = df_reddit[\"subreddit\"]\n",
    "X_train, X_test, y_train, y_test = train_test_split(X,y,test_size = 0.2, random_state = 42)"
   ]
  },
  {
   "cell_type": "markdown",
   "metadata": {},
   "source": [
    "Tokens vectorized along a binary-- either the token is in the document (1) or it isn't (0). Best Bayesian model is the Bernoulli model, as it models the presence or absence of a word as a predictor of category. "
   ]
  },
  {
   "cell_type": "code",
   "execution_count": 203,
   "metadata": {},
   "outputs": [],
   "source": [
    "bnb = BernoulliNB()\n",
    "y_pred_b = bnb.fit(X_train, y_train).predict(X_test)"
   ]
  },
  {
   "cell_type": "markdown",
   "metadata": {},
   "source": [
    "What is the accuracy if text was classified based on majority class? Use DummyClassifier from sci-kit learn to create model, by setting strategy parameter to \"most_frequent\""
   ]
  },
  {
   "cell_type": "code",
   "execution_count": 212,
   "metadata": {},
   "outputs": [],
   "source": [
    "dc = DummyClassifier(strategy=\"most_frequent\")\n",
    "dc.fit(X_train,y_train)\n",
    "y_pred_dc = dc.predict(X_test)"
   ]
  },
  {
   "cell_type": "code",
   "execution_count": 214,
   "metadata": {},
   "outputs": [
    {
     "name": "stdout",
     "output_type": "stream",
     "text": [
      "BernoulliNB Accuracy: 0.7373532982598139\n",
      "DummyClassifier Accuracy: 0.5341966815054634\n"
     ]
    }
   ],
   "source": [
    "accuracy_b = accuracy_score(y_test,y_pred_b)\n",
    "print(f'BernoulliNB Accuracy: {accuracy_b}')\n",
    "accuracy_dc = accuracy_score(y_test,y_pred_dc)\n",
    "print(f'DummyClassifier Accuracy: {accuracy_dc}')"
   ]
  },
  {
   "cell_type": "markdown",
   "metadata": {},
   "source": [
    "Trying Logistic Regression. Using the 'saga' solver since all the features in the vector are of the same scale (binary)."
   ]
  },
  {
   "cell_type": "code",
   "execution_count": 262,
   "metadata": {},
   "outputs": [
    {
     "name": "stdout",
     "output_type": "stream",
     "text": [
      "LogisticRegression-SAGA Accuracy: 0.8450020234722785\n"
     ]
    }
   ],
   "source": [
    "logreg = LogisticRegression(solver = 'saga', random_state = 42)\n",
    "\n",
    "y_pred_lr = logreg.fit(X_train, y_train).predict(X_test)\n",
    "\n",
    "accuracy_lr = accuracy_score(y_test, y_pred_lr)\n",
    "print(f'LogisticRegression-SAGA Accuracy: {accuracy_lr}')"
   ]
  },
  {
   "cell_type": "markdown",
   "metadata": {},
   "source": [
    "Confusion Matrices for Bernoulli Naive Bayes and Logistic Regression\n",
    "\n"
   ]
  },
  {
   "cell_type": "code",
   "execution_count": 294,
   "metadata": {},
   "outputs": [
    {
     "name": "stdout",
     "output_type": "stream",
     "text": [
      "Confusion Matrix for Bernoulli Naive Bayes\n",
      "[[1161  159]\n",
      " [ 490  661]]\n"
     ]
    },
    {
     "data": {
      "image/png": "[encoded data removed]",
      "text/plain": [
       "<Figure size 432x288 with 2 Axes>"
      ]
     },
     "metadata": {
      "needs_background": "light"
     },
     "output_type": "display_data"
    }
   ],
   "source": [
    "title = \"Confusion Matrix for Bernoulli Naive Bayes\"\n",
    "disp = plot_confusion_matrix(bnb, X_test, y_test,\n",
    "                            display_labels=['MaliciousCompliance','ProRevenge'],\n",
    "                            cmap=plt.cm.Purples)\n",
    "disp.ax_.set_title(title)\n",
    "\n",
    "print(title)\n",
    "print(disp.confusion_matrix)\n"
   ]
  },
  {
   "cell_type": "code",
   "execution_count": 286,
   "metadata": {},
   "outputs": [
    {
     "name": "stdout",
     "output_type": "stream",
     "text": [
      "Bernoulli Naive Bayes Specificity: 0.8795454545454545\n"
     ]
    }
   ],
   "source": [
    "tn, fp, fn, tp = confusion_matrix(y_test, y_pred_b).ravel()\n",
    "print(f'Bernoulli Naive Bayes Specificity: {tn/(tn+fp)}')"
   ]
  },
  {
   "cell_type": "code",
   "execution_count": 296,
   "metadata": {},
   "outputs": [
    {
     "name": "stdout",
     "output_type": "stream",
     "text": [
      "Confusion Matrix for Logistic Regression\n",
      "[[1165  155]\n",
      " [ 228  923]]\n"
     ]
    },
    {
     "data": {
      "image/png": "[encoded data removed]",
      "text/plain": [
       "<Figure size 432x288 with 2 Axes>"
      ]
     },
     "metadata": {
      "needs_background": "light"
     },
     "output_type": "display_data"
    }
   ],
   "source": [
    "title = \"Confusion Matrix for Logistic Regression\"\n",
    "disp = plot_confusion_matrix(logreg, X_test, y_test,\n",
    "                            display_labels=['MaliciousCompliance','ProRevenge'],\n",
    "                            cmap=plt.cm.Blues)\n",
    "disp.ax_.set_title(title)\n",
    "\n",
    "print(title)\n",
    "print(disp.confusion_matrix)"
   ]
  },
  {
   "cell_type": "code",
   "execution_count": 285,
   "metadata": {},
   "outputs": [
    {
     "name": "stdout",
     "output_type": "stream",
     "text": [
      "Logistic Regression Specificity: 0.8825757575757576\n"
     ]
    }
   ],
   "source": [
    "tn, fp, fn, tp = confusion_matrix(y_test, y_pred_lr).ravel()\n",
    "print(f'Logistic Regression Specificity: {tn/(tn+fp)}')"
   ]
  },
  {
   "cell_type": "markdown",
   "metadata": {},
   "source": [
    "Decision Tree. Code from Lesson 7.1 - Intro to Decision Trees. This classifier acts like an interrogator- passing the data through a series of decisions based on gini impurity to categorize."
   ]
  },
  {
   "cell_type": "code",
   "execution_count": 238,
   "metadata": {},
   "outputs": [],
   "source": [
    "# Define Gini function, called gini.\n",
    "def gini(obs):\n",
    "    \n",
    "    # Create a list to store my squared class probabilities.\n",
    "    gini_sum = []\n",
    "    \n",
    "    # Iterate through each class.\n",
    "    for class_i in set(obs):\n",
    "        \n",
    "        # Calculate observed probability of class i.\n",
    "        prob = (obs.count(class_i) / len(obs))\n",
    "        #print(prob)\n",
    "        \n",
    "        # Square the probability and append it to gini_sum.\n",
    "        gini_sum.append(prob ** 2)\n",
    "        \n",
    "    # Return Gini impurity.\n",
    "    return 1 - sum(gini_sum)"
   ]
  },
  {
   "cell_type": "code",
   "execution_count": 248,
   "metadata": {},
   "outputs": [
    {
     "data": {
      "text/plain": [
       "MaliciousCompliance    1320\n",
       "ProRevenge             1151\n",
       "Name: subreddit, dtype: int64"
      ]
     },
     "execution_count": 248,
     "metadata": {},
     "output_type": "execute_result"
    }
   ],
   "source": [
    "dtc = DecisionTreeClassifier(max_depth=3)\n",
    "dtc.fit(X_train, y_train)\n",
    "y_train.value_counts().sort_index()\n",
    "\n",
    "y_test.value_counts().sort_index()"
   ]
  },
  {
   "cell_type": "code",
   "execution_count": 259,
   "metadata": {},
   "outputs": [
    {
     "data": {
      "image/png": "[encoded data removed]",
      "text/plain": [
       "<Figure size 1440x576 with 1 Axes>"
      ]
     },
     "metadata": {
      "needs_background": "light"
     },
     "output_type": "display_data"
    }
   ],
   "source": [
    "plt.figure(figsize=(20,8))\n",
    "plot_tree(dtc, feature_names=vector_2.indices, \n",
    "          class_names=['MaliciousCompliance','ProRevenge'], filled=True);"
   ]
  },
  {
   "cell_type": "code",
   "execution_count": 261,
   "metadata": {},
   "outputs": [
    {
     "name": "stdout",
     "output_type": "stream",
     "text": [
      "Score on training set: 0.7111628377694565\n",
      "Score on testing set: 0.7353298259813841\n"
     ]
    }
   ],
   "source": [
    "# Evaluate model.\n",
    "print(f'Score on training set: {dtc.score(X_train, y_train)}')\n",
    "print(f'Score on testing set: {dtc.score(X_test, y_test)}')"
   ]
  },
  {
   "cell_type": "code",
   "execution_count": null,
   "metadata": {},
   "outputs": [],
   "source": []
  }
 ],
 "metadata": {
  "kernelspec": {
   "display_name": "Python 3",
   "language": "python",
   "name": "python3"
  },
  "language_info": {
   "codemirror_mode": {
    "name": "ipython",
    "version": 3
   },
   "file_extension": ".py",
   "mimetype": "text/x-python",
   "name": "python",
   "nbconvert_exporter": "python",
   "pygments_lexer": "ipython3",
   "version": "3.8.3"
  }
 },
 "nbformat": 4,
 "nbformat_minor": 4
}
