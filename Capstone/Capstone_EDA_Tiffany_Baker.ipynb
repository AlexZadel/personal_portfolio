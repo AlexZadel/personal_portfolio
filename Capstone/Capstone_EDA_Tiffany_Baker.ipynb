{
 "cells": [
  {
   "cell_type": "code",
   "execution_count": 1,
   "metadata": {},
   "outputs": [],
   "source": [
    "import pandas as pd\n",
    "import numpy as np\n",
    "import seaborn as sns\n",
    "import matplotlib.pyplot as plt\n",
    "import requests\n",
    "from sodapy import Socrata"
   ]
  },
  {
   "cell_type": "markdown",
   "metadata": {},
   "source": [
    "In order to evaluate the efficacy of different interventions in the fight against the opioid epidemic, I am reviewing prescription and enrollment information for Kentucky Medicaid. The data is available publicly through data.medicaid.gov and the Socrata client. SodaPy is the Python library that works with Socrata. \n",
    "\n",
    "I obtained 5 years of prescription data (2015-2019) and the corresponding enrollment. I also obtained a dataset of only the medications prescribed for substance use disorder treatment, including Naloxone (Narcan). \n",
    "\n",
    "I will review the data from each year 2015-2018 to create forecasts, then compare the forecasts to the actual prescription values in 2019. \n",
    "\n",
    "This is the basis of my evaluation of the impact of US DOJ interventions in KY starting in October, 2018. "
   ]
  },
  {
   "cell_type": "code",
   "execution_count": 2,
   "metadata": {},
   "outputs": [
    {
     "name": "stderr",
     "output_type": "stream",
     "text": [
      "WARNING:root:Requests made without an app_token will be subject to strict throttling limits.\n"
     ]
    }
   ],
   "source": [
    "client = Socrata(\"data.medicaid.gov\", None)\n",
    "#code from the medicaid.gov website for using Socrata with Python\n",
    "\n",
    "# Example authenticated client (needed for non-public datasets):\n",
    "# client = Socrata(data.medicaid.gov,\n",
    "#                  MyAppToken,\n",
    "#                  userame=\"user@example.com\",\n",
    "#                  password=\"AFakePassword\")\n",
    "\n",
    "# Returned as JSON from API / converted to Python list of\n",
    "# dictionaries by sodapy.\n",
    "\n",
    "rx_2015 = client.get(\"hse5-m4bk\", state_code = 'KY', limit = 250000)\n",
    "rx_2016 = client.get(\"dpqa-tc6u\", state_code = 'KY', limit = 250000)\n",
    "rx_2017 = client.get(\"qams-sami\", state_code = 'KY', limit = 250000)\n",
    "rx_2018 = client.get(\"ddz4-5k5v\",state_code = 'KY', limit = 250000)\n",
    "rx_2019 = client.get(\"8fjh-49cj\", state_code = 'KY', limit = 250000)\n",
    "rx_2020 = client.get(\"yuuq-gv5v\", state_code = 'KY', limit = 250000)\n",
    "\n",
    "\n",
    "rx_mat = client.get(\"3mnv-bath\", state_code = 'KY', limit = 10000)\n",
    "mcd_enrollment =client.get(\"nkdi-f9a2\", limit = 100)\n",
    "\n",
    "\n",
    "# Convert to pandas DataFrame\n",
    "df_2020 = pd.DataFrame.from_records(rx_2020)\n",
    "df_2019 = pd.DataFrame.from_records(rx_2019)\n",
    "df_2018 = pd.DataFrame.from_records(rx_2018)\n",
    "df_2017 = pd.DataFrame.from_records(rx_2017)\n",
    "df_2016 = pd.DataFrame.from_records(rx_2016)\n",
    "df_2015 = pd.DataFrame.from_records(rx_2015)\n",
    "df_mat = pd.DataFrame.from_records(rx_mat)\n",
    "df_enrollment =pd.DataFrame.from_records(mcd_enrollment)"
   ]
  },
  {
   "cell_type": "markdown",
   "metadata": {},
   "source": [
    "Once all the data is obtained, check the shape of each year's data set, consolidate into 1 data frame for years 2015-2018, remove all rows with nulls in the 'number of prescriptions' field. "
   ]
  },
  {
   "cell_type": "code",
   "execution_count": 3,
   "metadata": {},
   "outputs": [
    {
     "data": {
      "text/plain": [
       "((116873, 20),\n",
       " (117983, 17),\n",
       " (126557, 20),\n",
       " (130942, 20),\n",
       " (132900, 20),\n",
       " (262, 20),\n",
       " (66, 9))"
      ]
     },
     "execution_count": 3,
     "metadata": {},
     "output_type": "execute_result"
    }
   ],
   "source": [
    "df_2015.shape, df_2016.shape, df_2017.shape, df_2018.shape, df_2019.shape, df_mat.shape, df_enrollment.shape\n"
   ]
  },
  {
   "cell_type": "code",
   "execution_count": 4,
   "metadata": {},
   "outputs": [
    {
     "data": {
      "text/plain": [
       "(Index(['quarter', 'state_code', 'record_id', '_quarter_begin_date',\n",
       "        '_latitude', 'product_code', 'package_size', '_quarter_begin',\n",
       "        'non_medicaid_amount_reimbursed', 'suppression_used',\n",
       "        'number_of_prescriptions', 'product_fda_list_name', 'labeler_code',\n",
       "        'total_amount_reimbursed', 'units_reimbursed', 'period_covered',\n",
       "        '_longitude', 'medicaid_amount_reimbursed', '_location', 'ndc'],\n",
       "       dtype='object'),\n",
       " Index(['quarter', 'record_id', 'state_code', '_quarter_begin_date',\n",
       "        'product_code', 'package_size', '_quarter_begin',\n",
       "        'non_medicaid_amount_reimbursed', 'number_of_prescriptions',\n",
       "        'product_fda_list_name', 'labeler_code', 'total_amount_reimbursed',\n",
       "        'units_reimbursed', 'period_covered', 'medicaid_amount_reimbursed',\n",
       "        '_location', 'ndc'],\n",
       "       dtype='object'),\n",
       " Index(['quarter', 'state_code', 'record_id', '_quarter_begin_date',\n",
       "        '_latitude', 'product_code', 'package_size', '_quarter_begin',\n",
       "        'non_medicaid_amount_reimbursed', 'suppression_used',\n",
       "        'number_of_prescriptions', 'product_fda_list_name', 'labeler_code',\n",
       "        'total_amount_reimbursed', 'units_reimbursed', 'period_covered',\n",
       "        '_longitude', 'medicaid_amount_reimbursed', '_location', 'ndc'],\n",
       "       dtype='object'),\n",
       " Index(['quarter', 'state_code', 'record_id', '_quarter_begin_date',\n",
       "        '_latitude', 'product_code', 'package_size', '_quarter_begin',\n",
       "        'non_medicaid_amount_reimbursed', 'suppression_used',\n",
       "        'number_of_prescriptions', 'product_fda_list_name', 'labeler_code',\n",
       "        'total_amount_reimbursed', 'units_reimbursed', 'period_covered',\n",
       "        '_longitude', 'medicaid_amount_reimbursed', '_location', 'ndc'],\n",
       "       dtype='object'),\n",
       " Index(['record_id', 'state_code', 'labeler_code', 'product_code',\n",
       "        'package_size', 'period_covered', 'quarter', 'product_fda_list_name',\n",
       "        'suppression_used', '_quarter_begin', '_quarter_begin_date',\n",
       "        '_latitude', '_longitude', '_location', 'ndc', 'units_reimbursed',\n",
       "        'number_of_prescriptions', 'total_amount_reimbursed',\n",
       "        'medicaid_amount_reimbursed', 'non_medicaid_amount_reimbursed'],\n",
       "       dtype='object'))"
      ]
     },
     "execution_count": 4,
     "metadata": {},
     "output_type": "execute_result"
    }
   ],
   "source": [
    "df_2015.columns, df_2016.columns, df_2017.columns, df_2018.columns, df_2019.columns"
   ]
  },
  {
   "cell_type": "markdown",
   "metadata": {},
   "source": [
    "Define the fields that are consistent across all prescription data and identify features to use in model"
   ]
  },
  {
   "cell_type": "code",
   "execution_count": 5,
   "metadata": {},
   "outputs": [],
   "source": [
    "keepers = ['quarter', 'state_code', \n",
    "        'product_code', 'package_size', '_quarter_begin', 'number_of_prescriptions',\n",
    "        'product_fda_list_name', 'labeler_code', 'total_amount_reimbursed',\n",
    "        'units_reimbursed', 'period_covered', 'ndc']"
   ]
  },
  {
   "cell_type": "markdown",
   "metadata": {},
   "source": [
    "Use concatenate to create one data frame for years 2015-2018, and drop any rows with NaN in number_of_prescriptions"
   ]
  },
  {
   "cell_type": "code",
   "execution_count": 69,
   "metadata": {},
   "outputs": [],
   "source": [
    "rx_df = pd.concat([df_2015[keepers],df_2016[keepers], df_2017[keepers], df_2018[keepers]] )"
   ]
  },
  {
   "cell_type": "code",
   "execution_count": 70,
   "metadata": {},
   "outputs": [],
   "source": [
    "rx_df.dropna(subset = ['number_of_prescriptions'], inplace =True)"
   ]
  },
  {
   "cell_type": "code",
   "execution_count": 71,
   "metadata": {
    "scrolled": true
   },
   "outputs": [
    {
     "data": {
      "text/plain": [
       "(203597, 12)"
      ]
     },
     "execution_count": 71,
     "metadata": {},
     "output_type": "execute_result"
    }
   ],
   "source": [
    "rx_df.shape"
   ]
  },
  {
   "cell_type": "code",
   "execution_count": 72,
   "metadata": {},
   "outputs": [
    {
     "data": {
      "text/html": [
       "<div>\n",
       "<style scoped>\n",
       "    .dataframe tbody tr th:only-of-type {\n",
       "        vertical-align: middle;\n",
       "    }\n",
       "\n",
       "    .dataframe tbody tr th {\n",
       "        vertical-align: top;\n",
       "    }\n",
       "\n",
       "    .dataframe thead th {\n",
       "        text-align: right;\n",
       "    }\n",
       "</style>\n",
       "<table border=\"1\" class=\"dataframe\">\n",
       "  <thead>\n",
       "    <tr style=\"text-align: right;\">\n",
       "      <th></th>\n",
       "      <th>quarter</th>\n",
       "      <th>state_code</th>\n",
       "      <th>product_code</th>\n",
       "      <th>package_size</th>\n",
       "      <th>_quarter_begin</th>\n",
       "      <th>number_of_prescriptions</th>\n",
       "      <th>product_fda_list_name</th>\n",
       "      <th>labeler_code</th>\n",
       "      <th>total_amount_reimbursed</th>\n",
       "      <th>units_reimbursed</th>\n",
       "      <th>period_covered</th>\n",
       "      <th>ndc</th>\n",
       "    </tr>\n",
       "  </thead>\n",
       "  <tbody>\n",
       "    <tr>\n",
       "      <th>0</th>\n",
       "      <td>2</td>\n",
       "      <td>KY</td>\n",
       "      <td>0167</td>\n",
       "      <td>58</td>\n",
       "      <td>4/1</td>\n",
       "      <td>1499</td>\n",
       "      <td>METOPROLOL</td>\n",
       "      <td>57664</td>\n",
       "      <td>6701.03</td>\n",
       "      <td>84920</td>\n",
       "      <td>2015</td>\n",
       "      <td>57664016758</td>\n",
       "    </tr>\n",
       "    <tr>\n",
       "      <th>1</th>\n",
       "      <td>4</td>\n",
       "      <td>KY</td>\n",
       "      <td>0759</td>\n",
       "      <td>20</td>\n",
       "      <td>10/1</td>\n",
       "      <td>58</td>\n",
       "      <td>ATENOLOL</td>\n",
       "      <td>51079</td>\n",
       "      <td>72.91</td>\n",
       "      <td>511</td>\n",
       "      <td>2015</td>\n",
       "      <td>51079075920</td>\n",
       "    </tr>\n",
       "    <tr>\n",
       "      <th>2</th>\n",
       "      <td>2</td>\n",
       "      <td>KY</td>\n",
       "      <td>0117</td>\n",
       "      <td>04</td>\n",
       "      <td>4/1</td>\n",
       "      <td>2038</td>\n",
       "      <td>LACTATED R</td>\n",
       "      <td>00338</td>\n",
       "      <td>25361.71</td>\n",
       "      <td>2136666</td>\n",
       "      <td>2015</td>\n",
       "      <td>00338011704</td>\n",
       "    </tr>\n",
       "    <tr>\n",
       "      <th>3</th>\n",
       "      <td>3</td>\n",
       "      <td>KY</td>\n",
       "      <td>0923</td>\n",
       "      <td>55</td>\n",
       "      <td>7/1</td>\n",
       "      <td>47</td>\n",
       "      <td>PROTONIX I</td>\n",
       "      <td>00008</td>\n",
       "      <td>457.27</td>\n",
       "      <td>113</td>\n",
       "      <td>2015</td>\n",
       "      <td>00008092355</td>\n",
       "    </tr>\n",
       "    <tr>\n",
       "      <th>4</th>\n",
       "      <td>3</td>\n",
       "      <td>KY</td>\n",
       "      <td>0044</td>\n",
       "      <td>03</td>\n",
       "      <td>7/1</td>\n",
       "      <td>60</td>\n",
       "      <td>REBIF</td>\n",
       "      <td>44087</td>\n",
       "      <td>323096.78</td>\n",
       "      <td>250.5</td>\n",
       "      <td>2015</td>\n",
       "      <td>44087004403</td>\n",
       "    </tr>\n",
       "  </tbody>\n",
       "</table>\n",
       "</div>"
      ],
      "text/plain": [
       "  quarter state_code product_code package_size _quarter_begin  \\\n",
       "0       2         KY         0167           58            4/1   \n",
       "1       4         KY         0759           20           10/1   \n",
       "2       2         KY         0117           04            4/1   \n",
       "3       3         KY         0923           55            7/1   \n",
       "4       3         KY         0044           03            7/1   \n",
       "\n",
       "  number_of_prescriptions product_fda_list_name labeler_code  \\\n",
       "0                    1499            METOPROLOL        57664   \n",
       "1                      58              ATENOLOL        51079   \n",
       "2                    2038            LACTATED R        00338   \n",
       "3                      47            PROTONIX I        00008   \n",
       "4                      60                 REBIF        44087   \n",
       "\n",
       "  total_amount_reimbursed units_reimbursed period_covered          ndc  \n",
       "0                 6701.03            84920           2015  57664016758  \n",
       "1                   72.91              511           2015  51079075920  \n",
       "2                25361.71          2136666           2015  00338011704  \n",
       "3                  457.27              113           2015  00008092355  \n",
       "4               323096.78            250.5           2015  44087004403  "
      ]
     },
     "execution_count": 72,
     "metadata": {},
     "output_type": "execute_result"
    }
   ],
   "source": [
    "rx_df.head()"
   ]
  },
  {
   "cell_type": "markdown",
   "metadata": {},
   "source": [
    "to limit the prescription data to only opioid drugs, I'm using the OpenFDA API to query the FDA NDC drug database. This database is updated daily with the latest information from the FDA about all products with an NDC (national drug code) identifier. The API documentation indicates the search is limited to a max of 1000 rows, and according to the metadata, there are 1751 opioid drugs in the database. 2 pulls with a maximum limit of 1000 rows each should provide all the opioids in the database \n",
    "Documentation for the API is here: https://open.fda.gov/apis/"
   ]
  },
  {
   "cell_type": "code",
   "execution_count": 9,
   "metadata": {},
   "outputs": [],
   "source": [
    "data1 = requests.get('https://api.fda.gov/drug/ndc.json?search=pharm_class:\"Opioid\"&limit=1000').json()\n",
    "data2 = requests.get('https://api.fda.gov/drug/ndc.json?search=pharm_class:\"Opioid\"&limit=1000&skip=1000').json()\n"
   ]
  },
  {
   "cell_type": "code",
   "execution_count": 35,
   "metadata": {},
   "outputs": [
    {
     "data": {
      "text/plain": [
       "1753    {'is_original_packager': [True], 'spl_set_id':...\n",
       "1754    {'is_original_packager': [True], 'spl_set_id':...\n",
       "1755    {'is_original_packager': [True], 'spl_set_id':...\n",
       "1756    {'is_original_packager': [True], 'spl_set_id':...\n",
       "1757    {'is_original_packager': [True], 'spl_set_id':...\n",
       "Name: openfda, dtype: object"
      ]
     },
     "execution_count": 35,
     "metadata": {},
     "output_type": "execute_result"
    }
   ],
   "source": [
    "#code assistance from James\n",
    "\n",
    "inner = data1['results'] + data2['results']\n",
    "fda_df = pd.DataFrame.from_records(inner)\n",
    "fda_df['route'] = fda_df['route'].str[0]\n",
    "\n",
    "fda_df = fda_df[['product_ndc','generic_name','dea_schedule','brand_name','active_ingredients','route','pharm_class']]\n"
   ]
  },
  {
   "cell_type": "markdown",
   "metadata": {},
   "source": [
    "Splitting the list into 5 smaller dataframes based on DEA drug class. Most, but not all, partial opioid agonists used in medication-assisted substance abuse treatment are classified as Schedule III prescription medications. \n",
    "This may be useful if I decide to use the DEA class as a feature or summarize total rx by schedule. Also a quick way to see what meds are in which class using value-count"
   ]
  },
  {
   "cell_type": "code",
   "execution_count": 63,
   "metadata": {
    "scrolled": true
   },
   "outputs": [
    {
     "data": {
      "text/plain": [
       "array(['Meperidine Hydrochloride', 'hydromorphone hydrochloride',\n",
       "       'MORPHINE SULFATE', 'HYDROMORPHONE HYDROCHLORIDE',\n",
       "       'oxycodone hydrochloride', 'Fentanyl Citrate', 'Morphine Sulfate',\n",
       "       'Hydromorphone Hydrochloride', 'SUFENTANIL CITRATE',\n",
       "       'Hydrocodone Bitartrate and Acetaminophen',\n",
       "       'Oxycodone and Acetaminophen', 'Methadone Hydrochloride',\n",
       "       'Oxycodone Hydrochloride', 'OXYMORPHONE HYDROCHLORIDE',\n",
       "       'oxycodone and acetaminophen tablets',\n",
       "       'oxycodone and acetaminophen',\n",
       "       'oxycodone hydrochloride and acetaminophen', 'FENTANYL CITRATE',\n",
       "       'METHADONE HYDROCHLORIDE',\n",
       "       'hydrocodone bitartrate and homatropine methylbromide',\n",
       "       'Hydromorphone hydrochloride', 'Codeine Sulfate',\n",
       "       'Levorphanol Tartrate', 'OXYCODONE HYDROCHLORIDE', 'OXYCODONE',\n",
       "       'tapentadol hydrochloride',\n",
       "       'Hydrocodone Polistirex and Chlorpheniramine Polistirex',\n",
       "       'FENTANYL', 'fentanyl', 'morphine sulfate',\n",
       "       'Oxycodone Hydchloride', 'hydrocodone bitartrate and ibuprofen',\n",
       "       'Hydrocodone Bitartrate And Acetaminophen',\n",
       "       'Oxycodone hydrochloride and Acetaminophen', 'Sufentanil Citrate',\n",
       "       'MEPERIDINE HYDROCHLORIDE',\n",
       "       'Hydrocodone Bitartrate and Homatropine Methylbromide',\n",
       "       'Oxycodone',\n",
       "       'hydrocodone bitartrate and homatropine methylbromide oral solution',\n",
       "       'Oxymorphone Hydrochloride', 'OXYCODONE HCl',\n",
       "       'hydrocodone bitartrate and acetaminophen',\n",
       "       'Hydrocodone Bitartrate and Ibuprofen',\n",
       "       'Oxycodone Hydrochloride Oral Solution', 'fentanyl citrate',\n",
       "       'HYDROCODONE BITARTRATE AND HOMATROPINE METHYLBROMIDE',\n",
       "       'Alfentanil Hydrochloride', 'methadone hydrochloride',\n",
       "       'HYDROCODONE BITARTRATE and ACETAMINOPHEN',\n",
       "       'Hydrocodone Bitartrate and Chlorpheniramine Maleate', 'Morphine',\n",
       "       'meperidine hydrochloride', 'Oxycodone hydrochloride',\n",
       "       'Hydrocodone Bitartrate', 'Fentanyl',\n",
       "       'hydrocodone polistirex and chlorpheniramine polistirex',\n",
       "       'HYDROCODONE BITARTRATE AND ACETAMINOPHEN',\n",
       "       'HYDROCODONE BITARTATE AND ACETAMINOPHEN',\n",
       "       'HYDROCODONE BITARTRATE AND IBUPROFEN', 'Morphine sulfate',\n",
       "       'Methadone', 'OXYCODONE AND ACETAMINOPHEN',\n",
       "       'hydrocodone bitartrate', 'Oxycodone hydrochloride and Ibuprofen',\n",
       "       'Remifentanil Hydrochloride', 'Sufentanil',\n",
       "       'HYDROCODONE BITARTRATE', 'HYRDROCODONE APAP', 'HYDROCODONE /APAP',\n",
       "       'OXYCODONE APAP', 'OXYCODONE/APAP', 'OXYCODONE AND ACETAMINOPHE',\n",
       "       'OXYCODONE HCL', 'Oxycodone/APAP', 'morphine tincture',\n",
       "       'Hydrocodone Bitartrate, Acetaminophen',\n",
       "       'Oxymorphone hydrochloride', 'fentanyl transdermal',\n",
       "       'HYDROmorphone Hydrochloride',\n",
       "       'Oxycodone Hydrochloride and Acetaminophen',\n",
       "       'Oxycodone Hydrochloride and Aspirin',\n",
       "       'Morphine Sulfate Oral Solution', 'codeine sulfate',\n",
       "       'oxymorphone hydrochloride'], dtype=object)"
      ]
     },
     "execution_count": 63,
     "metadata": {},
     "output_type": "execute_result"
    }
   ],
   "source": [
    "CII = fda_df.loc[fda_df['dea_schedule']== 'CII']\n",
    "\n",
    "\n",
    "CIII = fda_df.loc[fda_df['dea_schedule'] == 'CIII']\n",
    "\n",
    "\n",
    "\n",
    "CIV = fda_df.loc[fda_df['dea_schedule'] == 'CIV']\n",
    "\n",
    "\n",
    "\n",
    "CV = fda_df.loc[fda_df['dea_schedule'] == 'CV']\n"
   ]
  },
  {
   "cell_type": "markdown",
   "metadata": {},
   "source": [
    "Only methadone, butorphanol tartrate, and buprenorphine-containing medications are acceptable forms of medicated-assisted treatment for substance use disorder covered by Medicaid in KY (there are other non-opioid medications like Wellbutrin approved for substance abuse treatment, but I've limited my dataframe to only opioid medications). Create a dummy column for MAT - '1' if lowercase generic name contains methadone, butorphanol, or buprenorphine; '0' if not.\n",
    "\n",
    "Likewise, create a dummy column for Opioid - '1' if lowercase generic name contains one of the base opioids. I started with trying to match NDC codes, but discovered that the current directory does not include recently retired NDC's. Out of 203k transaction records, 6k registered as opioids when I matched on NDC's. With the dummy column based on name, I also capture opioid drugs historically prescribed under a now-expired NDC. "
   ]
  },
  {
   "cell_type": "markdown",
   "metadata": {},
   "source": [
    "Using this example from StackOverflow as my basis - https://stackoverflow.com/questions/26886653/pandas-create-new-column-based-on-values-from-other-columns-apply-a-function-o?rq=1 and assistance from Alex getting my syntax correct."
   ]
  },
  {
   "cell_type": "code",
   "execution_count": 99,
   "metadata": {},
   "outputs": [],
   "source": [
    "def mat(value):\n",
    "    \n",
    "    if 'buprenorph' in value.lower():\n",
    "        return 1\n",
    "    elif 'methadone' in value.lower():\n",
    "        return 1\n",
    "    elif 'butorphano' in value.lower():\n",
    "        return 1\n",
    "    else:\n",
    "        return 0\n",
    "    \n"
   ]
  },
  {
   "cell_type": "code",
   "execution_count": 117,
   "metadata": {},
   "outputs": [],
   "source": [
    "def opioid(value):\n",
    "    if 'oxycodone' in value.lower():\n",
    "        return 1\n",
    "    elif 'fentanyl' in value.lower():\n",
    "        return 1\n",
    "    elif 'morphine' in value.lower():\n",
    "        return 1\n",
    "    elif 'buprenorph' in value.lower():\n",
    "        return 1\n",
    "    elif 'meperidine' in value.lower():\n",
    "        return 1\n",
    "    elif 'hydromorph' in value.lower():\n",
    "        return 1\n",
    "    elif 'methadone' in value.lower():\n",
    "        return 1\n",
    "    elif 'hydrocodon' in value.lower():\n",
    "        return 1\n",
    "    elif 'tapentadol' in value.lower():\n",
    "        return 1\n",
    "    elif 'oxymorphon' in value.lower():\n",
    "        return 1\n",
    "    elif 'codeine' in value.lower():\n",
    "        return 1\n",
    "    elif 'tramadol' in value.lower():\n",
    "        return 1\n",
    "    elif 'pentazocin' in value.lower():\n",
    "        return 1\n",
    "    elif 'butorphano' in value.lower():\n",
    "        return 1\n",
    "    elif 'eluxadolin' in value.lower():\n",
    "        return 1\n",
    "    elif 'sufentanil' in value.lower():\n",
    "        return 1\n",
    "    elif 'demerol' in value.lower():\n",
    "        return 1\n",
    "    elif 'remifentan' in value.lower():\n",
    "        return 1\n",
    "    elif 'alfentanil' in value.lower():\n",
    "        return 1\n",
    "    elif 'levorphano' in value.lower():\n",
    "        return 1\n",
    "    elif 'lortab' in value.lower():\n",
    "        return 1\n",
    "    elif 'demerol' in value.lower():\n",
    "        return 1\n",
    "    elif 'percocet' in value.lower():\n",
    "        return 1\n",
    "    elif 'endocet' in value.lower():\n",
    "        return 1\n",
    "    elif 'oxycontin' in value.lower():\n",
    "        return 1\n",
    "    elif 'hydromet' in value.lower():\n",
    "        return 1\n",
    "    elif 'nucynta' in value.lower():\n",
    "        return 1\n",
    "    elif 'dilaudid' in value.lower():\n",
    "        return 1\n",
    "    elif 'zohydro' in value.lower():\n",
    "        return 1\n",
    "    elif 'xtampza' in value.lower():\n",
    "        return 1\n",
    "    elif 'duramorph' in value.lower():\n",
    "        return 1\n",
    "    else:\n",
    "        return 0\n",
    "    "
   ]
  },
  {
   "cell_type": "code",
   "execution_count": 118,
   "metadata": {},
   "outputs": [
    {
     "data": {
      "text/plain": [
       "1"
      ]
     },
     "execution_count": 118,
     "metadata": {},
     "output_type": "execute_result"
    }
   ],
   "source": [
    "mat('Buprenorphine Hydrocholoride')"
   ]
  },
  {
   "cell_type": "code",
   "execution_count": 119,
   "metadata": {},
   "outputs": [],
   "source": [
    "rx_df['mat'] = rx_df['product_fda_list_name'].apply(lambda x: mat(x))"
   ]
  },
  {
   "cell_type": "code",
   "execution_count": 120,
   "metadata": {},
   "outputs": [],
   "source": [
    "rx_df['opioid']=rx_df['product_fda_list_name'].apply(lambda x: opioid(x))"
   ]
  },
  {
   "cell_type": "code",
   "execution_count": 121,
   "metadata": {},
   "outputs": [
    {
     "data": {
      "text/plain": [
       "0    197380\n",
       "1      6217\n",
       "Name: opioid, dtype: int64"
      ]
     },
     "execution_count": 121,
     "metadata": {},
     "output_type": "execute_result"
    }
   ],
   "source": [
    "rx_df['opioid'].value_counts()"
   ]
  },
  {
   "cell_type": "markdown",
   "metadata": {},
   "source": [
    "Harmonize NDC format across both data sources by stripping the hyphen from product_ndc in the FDA dataset and dropping the last 2 digits in the ndc field in the Medicaid data"
   ]
  },
  {
   "cell_type": "code",
   "execution_count": 122,
   "metadata": {},
   "outputs": [
    {
     "data": {
      "text/plain": [
       "Index(['product_ndc', 'generic_name', 'labeler_name', 'dea_schedule',\n",
       "       'brand_name', 'active_ingredients', 'finished', 'packaging',\n",
       "       'listing_expiration_date', 'openfda', 'marketing_category',\n",
       "       'dosage_form', 'spl_id', 'product_type', 'route',\n",
       "       'marketing_start_date', 'product_id', 'application_number',\n",
       "       'brand_name_base', 'pharm_class', 'marketing_end_date',\n",
       "       'brand_name_suffix', 'label_code', 'prod_code', 'ndc', 'mat'],\n",
       "      dtype='object')"
      ]
     },
     "execution_count": 122,
     "metadata": {},
     "output_type": "execute_result"
    }
   ],
   "source": [
    "fda_df.columns"
   ]
  },
  {
   "cell_type": "markdown",
   "metadata": {},
   "source": [
    "Medicaid pads their NDC numbers. Example- NDC 0406-0540 is 004060540; 76420-127 is 764200127. In other words, the digits to the left of the hash are converted to a 5-digit 'labeler code' and the digits to the right of the hash are converted to a 4-digit 'product code'. "
   ]
  },
  {
   "cell_type": "code",
   "execution_count": 123,
   "metadata": {},
   "outputs": [],
   "source": [
    "fda_df['label_code']=fda_df['product_ndc'].str.split('-').str[0].str.zfill(5).astype(\"string\")\n",
    "\n",
    "fda_df['prod_code']=fda_df['product_ndc'].str.split('-').str[1].str.zfill(4).astype(\"string\")\n",
    "\n",
    "fda_df['ndc'] = fda_df['label_code']+fda_df['prod_code']\n",
    "\n",
    "fda_df.drop_duplicates(subset = ['product_ndc'], inplace = True)"
   ]
  },
  {
   "cell_type": "code",
   "execution_count": 124,
   "metadata": {},
   "outputs": [
    {
     "data": {
      "text/html": [
       "<div>\n",
       "<style scoped>\n",
       "    .dataframe tbody tr th:only-of-type {\n",
       "        vertical-align: middle;\n",
       "    }\n",
       "\n",
       "    .dataframe tbody tr th {\n",
       "        vertical-align: top;\n",
       "    }\n",
       "\n",
       "    .dataframe thead th {\n",
       "        text-align: right;\n",
       "    }\n",
       "</style>\n",
       "<table border=\"1\" class=\"dataframe\">\n",
       "  <thead>\n",
       "    <tr style=\"text-align: right;\">\n",
       "      <th></th>\n",
       "      <th>product_ndc</th>\n",
       "      <th>generic_name</th>\n",
       "      <th>labeler_name</th>\n",
       "      <th>dea_schedule</th>\n",
       "      <th>brand_name</th>\n",
       "      <th>active_ingredients</th>\n",
       "      <th>finished</th>\n",
       "      <th>packaging</th>\n",
       "      <th>listing_expiration_date</th>\n",
       "      <th>openfda</th>\n",
       "      <th>...</th>\n",
       "      <th>product_id</th>\n",
       "      <th>application_number</th>\n",
       "      <th>brand_name_base</th>\n",
       "      <th>pharm_class</th>\n",
       "      <th>marketing_end_date</th>\n",
       "      <th>brand_name_suffix</th>\n",
       "      <th>label_code</th>\n",
       "      <th>prod_code</th>\n",
       "      <th>ndc</th>\n",
       "      <th>mat</th>\n",
       "    </tr>\n",
       "  </thead>\n",
       "  <tbody>\n",
       "    <tr>\n",
       "      <th>1753</th>\n",
       "      <td>0406-0527</td>\n",
       "      <td>methadone hydrochloride</td>\n",
       "      <td>SpecGx LLC</td>\n",
       "      <td>CII</td>\n",
       "      <td>METHADOSE</td>\n",
       "      <td>[{'strength': '10 mg/mL', 'name': 'METHADONE H...</td>\n",
       "      <td>True</td>\n",
       "      <td>[{'marketing_start_date': '19730314', 'package...</td>\n",
       "      <td>20211231</td>\n",
       "      <td>{'is_original_packager': [True], 'spl_set_id':...</td>\n",
       "      <td>...</td>\n",
       "      <td>0406-0527_bdce787c-0fb4-4006-9165-ced25f38b8c1</td>\n",
       "      <td>NDA017116</td>\n",
       "      <td>METHADOSE</td>\n",
       "      <td>[Full Opioid Agonists [MoA], Opioid Agonist [E...</td>\n",
       "      <td>NaN</td>\n",
       "      <td>NaN</td>\n",
       "      <td>00406</td>\n",
       "      <td>0527</td>\n",
       "      <td>004060527</td>\n",
       "      <td>1</td>\n",
       "    </tr>\n",
       "    <tr>\n",
       "      <th>1754</th>\n",
       "      <td>0406-0540</td>\n",
       "      <td>Methadone Hydrochloride</td>\n",
       "      <td>SpecGx LLC</td>\n",
       "      <td>CII</td>\n",
       "      <td>METHADOSE DISPERSIBLE</td>\n",
       "      <td>[{'strength': '40 mg/1', 'name': 'METHADONE HY...</td>\n",
       "      <td>True</td>\n",
       "      <td>[{'marketing_start_date': '19930429', 'package...</td>\n",
       "      <td>20211231</td>\n",
       "      <td>{'is_original_packager': [True], 'spl_set_id':...</td>\n",
       "      <td>...</td>\n",
       "      <td>0406-0540_481e16e5-e3c5-4d09-95a3-0f7a0233d6f0</td>\n",
       "      <td>ANDA074184</td>\n",
       "      <td>METHADOSE DISPERSIBLE</td>\n",
       "      <td>[Full Opioid Agonists [MoA], Opioid Agonist [E...</td>\n",
       "      <td>NaN</td>\n",
       "      <td>NaN</td>\n",
       "      <td>00406</td>\n",
       "      <td>0540</td>\n",
       "      <td>004060540</td>\n",
       "      <td>1</td>\n",
       "    </tr>\n",
       "    <tr>\n",
       "      <th>1755</th>\n",
       "      <td>0406-1170</td>\n",
       "      <td>naltrexone hydrochloride</td>\n",
       "      <td>SpecGx LLC</td>\n",
       "      <td>NaN</td>\n",
       "      <td>NALTREXONE HYDROCHLORIDE</td>\n",
       "      <td>[{'strength': '50 mg/1', 'name': 'NALTREXONE H...</td>\n",
       "      <td>True</td>\n",
       "      <td>[{'marketing_start_date': '20020322', 'package...</td>\n",
       "      <td>20211231</td>\n",
       "      <td>{'is_original_packager': [True], 'spl_set_id':...</td>\n",
       "      <td>...</td>\n",
       "      <td>0406-1170_f7ac0547-6c8d-4a03-91f4-2c37215554ae</td>\n",
       "      <td>ANDA076264</td>\n",
       "      <td>NALTREXONE HYDROCHLORIDE</td>\n",
       "      <td>[Opioid Antagonist [EPC], Opioid Antagonists [...</td>\n",
       "      <td>NaN</td>\n",
       "      <td>NaN</td>\n",
       "      <td>00406</td>\n",
       "      <td>1170</td>\n",
       "      <td>004061170</td>\n",
       "      <td>0</td>\n",
       "    </tr>\n",
       "    <tr>\n",
       "      <th>1756</th>\n",
       "      <td>0406-1009</td>\n",
       "      <td>Oxymorphone Hydrochloride</td>\n",
       "      <td>SpecGx LLC</td>\n",
       "      <td>CII</td>\n",
       "      <td>OXYMORPHONE HYDROCHLORIDE</td>\n",
       "      <td>[{'strength': '5 mg/1', 'name': 'OXYMORPHONE H...</td>\n",
       "      <td>True</td>\n",
       "      <td>[{'marketing_end_date': '20210131', 'marketing...</td>\n",
       "      <td>NaN</td>\n",
       "      <td>{'is_original_packager': [True], 'spl_set_id':...</td>\n",
       "      <td>...</td>\n",
       "      <td>0406-1009_0c2957c6-5714-416c-9afb-98ee965950f7</td>\n",
       "      <td>ANDA202321</td>\n",
       "      <td>OXYMORPHONE HYDROCHLORIDE</td>\n",
       "      <td>[Full Opioid Agonists [MoA], Opioid Agonist [E...</td>\n",
       "      <td>20210131</td>\n",
       "      <td>NaN</td>\n",
       "      <td>00406</td>\n",
       "      <td>1009</td>\n",
       "      <td>004061009</td>\n",
       "      <td>0</td>\n",
       "    </tr>\n",
       "    <tr>\n",
       "      <th>1757</th>\n",
       "      <td>0406-1010</td>\n",
       "      <td>Oxymorphone Hydrochloride</td>\n",
       "      <td>SpecGx LLC</td>\n",
       "      <td>CII</td>\n",
       "      <td>OXYMORPHONE HYDROCHLORIDE</td>\n",
       "      <td>[{'strength': '10 mg/1', 'name': 'OXYMORPHONE ...</td>\n",
       "      <td>True</td>\n",
       "      <td>[{'marketing_end_date': '20210531', 'marketing...</td>\n",
       "      <td>NaN</td>\n",
       "      <td>{'is_original_packager': [True], 'spl_set_id':...</td>\n",
       "      <td>...</td>\n",
       "      <td>0406-1010_0c2957c6-5714-416c-9afb-98ee965950f7</td>\n",
       "      <td>ANDA202321</td>\n",
       "      <td>OXYMORPHONE HYDROCHLORIDE</td>\n",
       "      <td>[Full Opioid Agonists [MoA], Opioid Agonist [E...</td>\n",
       "      <td>20210531</td>\n",
       "      <td>NaN</td>\n",
       "      <td>00406</td>\n",
       "      <td>1010</td>\n",
       "      <td>004061010</td>\n",
       "      <td>0</td>\n",
       "    </tr>\n",
       "  </tbody>\n",
       "</table>\n",
       "<p>5 rows × 26 columns</p>\n",
       "</div>"
      ],
      "text/plain": [
       "     product_ndc               generic_name labeler_name dea_schedule  \\\n",
       "1753   0406-0527    methadone hydrochloride   SpecGx LLC          CII   \n",
       "1754   0406-0540    Methadone Hydrochloride   SpecGx LLC          CII   \n",
       "1755   0406-1170   naltrexone hydrochloride   SpecGx LLC          NaN   \n",
       "1756   0406-1009  Oxymorphone Hydrochloride   SpecGx LLC          CII   \n",
       "1757   0406-1010  Oxymorphone Hydrochloride   SpecGx LLC          CII   \n",
       "\n",
       "                     brand_name  \\\n",
       "1753                  METHADOSE   \n",
       "1754      METHADOSE DISPERSIBLE   \n",
       "1755   NALTREXONE HYDROCHLORIDE   \n",
       "1756  OXYMORPHONE HYDROCHLORIDE   \n",
       "1757  OXYMORPHONE HYDROCHLORIDE   \n",
       "\n",
       "                                     active_ingredients  finished  \\\n",
       "1753  [{'strength': '10 mg/mL', 'name': 'METHADONE H...      True   \n",
       "1754  [{'strength': '40 mg/1', 'name': 'METHADONE HY...      True   \n",
       "1755  [{'strength': '50 mg/1', 'name': 'NALTREXONE H...      True   \n",
       "1756  [{'strength': '5 mg/1', 'name': 'OXYMORPHONE H...      True   \n",
       "1757  [{'strength': '10 mg/1', 'name': 'OXYMORPHONE ...      True   \n",
       "\n",
       "                                              packaging  \\\n",
       "1753  [{'marketing_start_date': '19730314', 'package...   \n",
       "1754  [{'marketing_start_date': '19930429', 'package...   \n",
       "1755  [{'marketing_start_date': '20020322', 'package...   \n",
       "1756  [{'marketing_end_date': '20210131', 'marketing...   \n",
       "1757  [{'marketing_end_date': '20210531', 'marketing...   \n",
       "\n",
       "     listing_expiration_date  \\\n",
       "1753                20211231   \n",
       "1754                20211231   \n",
       "1755                20211231   \n",
       "1756                     NaN   \n",
       "1757                     NaN   \n",
       "\n",
       "                                                openfda  ...  \\\n",
       "1753  {'is_original_packager': [True], 'spl_set_id':...  ...   \n",
       "1754  {'is_original_packager': [True], 'spl_set_id':...  ...   \n",
       "1755  {'is_original_packager': [True], 'spl_set_id':...  ...   \n",
       "1756  {'is_original_packager': [True], 'spl_set_id':...  ...   \n",
       "1757  {'is_original_packager': [True], 'spl_set_id':...  ...   \n",
       "\n",
       "                                          product_id application_number  \\\n",
       "1753  0406-0527_bdce787c-0fb4-4006-9165-ced25f38b8c1          NDA017116   \n",
       "1754  0406-0540_481e16e5-e3c5-4d09-95a3-0f7a0233d6f0         ANDA074184   \n",
       "1755  0406-1170_f7ac0547-6c8d-4a03-91f4-2c37215554ae         ANDA076264   \n",
       "1756  0406-1009_0c2957c6-5714-416c-9afb-98ee965950f7         ANDA202321   \n",
       "1757  0406-1010_0c2957c6-5714-416c-9afb-98ee965950f7         ANDA202321   \n",
       "\n",
       "                brand_name_base  \\\n",
       "1753                  METHADOSE   \n",
       "1754      METHADOSE DISPERSIBLE   \n",
       "1755   NALTREXONE HYDROCHLORIDE   \n",
       "1756  OXYMORPHONE HYDROCHLORIDE   \n",
       "1757  OXYMORPHONE HYDROCHLORIDE   \n",
       "\n",
       "                                            pharm_class marketing_end_date  \\\n",
       "1753  [Full Opioid Agonists [MoA], Opioid Agonist [E...                NaN   \n",
       "1754  [Full Opioid Agonists [MoA], Opioid Agonist [E...                NaN   \n",
       "1755  [Opioid Antagonist [EPC], Opioid Antagonists [...                NaN   \n",
       "1756  [Full Opioid Agonists [MoA], Opioid Agonist [E...           20210131   \n",
       "1757  [Full Opioid Agonists [MoA], Opioid Agonist [E...           20210531   \n",
       "\n",
       "     brand_name_suffix label_code prod_code        ndc mat  \n",
       "1753               NaN      00406      0527  004060527   1  \n",
       "1754               NaN      00406      0540  004060540   1  \n",
       "1755               NaN      00406      1170  004061170   0  \n",
       "1756               NaN      00406      1009  004061009   0  \n",
       "1757               NaN      00406      1010  004061010   0  \n",
       "\n",
       "[5 rows x 26 columns]"
      ]
     },
     "execution_count": 124,
     "metadata": {},
     "output_type": "execute_result"
    }
   ],
   "source": [
    "fda_df.tail()"
   ]
  },
  {
   "cell_type": "code",
   "execution_count": 125,
   "metadata": {},
   "outputs": [],
   "source": [
    "rx_df['ndc'] = rx_df['ndc'].str[:9]"
   ]
  },
  {
   "cell_type": "markdown",
   "metadata": {},
   "source": [
    "Create a smaller data frame of just 'ndc', 'mat', and 'generic_name' from fda_df. Use merge to join rx_df to opioid_df using 'ndc'. The 'MAT' field in the fda_df serves as an indicator if the NDC in rx_df is an opioid and if so, if it is used for medication-assisted therapy"
   ]
  },
  {
   "cell_type": "code",
   "execution_count": 126,
   "metadata": {},
   "outputs": [
    {
     "name": "stdout",
     "output_type": "stream",
     "text": [
      "<class 'pandas.core.frame.DataFrame'>\n",
      "Int64Index: 203597 entries, 0 to 203596\n",
      "Data columns (total 16 columns):\n",
      " #   Column                   Non-Null Count   Dtype  \n",
      "---  ------                   --------------   -----  \n",
      " 0   quarter                  203597 non-null  object \n",
      " 1   state_code               203597 non-null  object \n",
      " 2   product_code             203597 non-null  object \n",
      " 3   package_size             203597 non-null  object \n",
      " 4   _quarter_begin           203597 non-null  object \n",
      " 5   number_of_prescriptions  203597 non-null  object \n",
      " 6   product_fda_list_name    203597 non-null  object \n",
      " 7   labeler_code             203597 non-null  object \n",
      " 8   total_amount_reimbursed  203597 non-null  object \n",
      " 9   units_reimbursed         203597 non-null  object \n",
      " 10  period_covered           203597 non-null  object \n",
      " 11  ndc                      203597 non-null  object \n",
      " 12  mat_x                    203597 non-null  int64  \n",
      " 13  opioid                   203597 non-null  int64  \n",
      " 14  mat_y                    6270 non-null    float64\n",
      " 15  generic_name             6270 non-null    object \n",
      "dtypes: float64(1), int64(2), object(13)\n",
      "memory usage: 26.4+ MB\n"
     ]
    }
   ],
   "source": [
    "opioid_df = fda_df[['ndc','mat','generic_name']]\n",
    "\n",
    "opioid_df.mat.value_counts()\n",
    "\n",
    "merged_df= rx_df.merge(opioid_df, how = \"left\", on = \"ndc\")\n",
    "\n",
    "merged_df.info()\n",
    "\n",
    "\n"
   ]
  },
  {
   "cell_type": "markdown",
   "metadata": {},
   "source": [
    "As a way to cross-check that all opioid containing prescriptions are labeled as such, look for rows with a value of '0' for 'mat_y' (which means that it was an opioid in the NDC list from the FDA) and '0' for 'Opioid' which means that it did not match any of the base ingredient names passed to the prescription list."
   ]
  },
  {
   "cell_type": "code",
   "execution_count": 127,
   "metadata": {},
   "outputs": [],
   "source": [
    "part = merged_df[merged_df['generic_name'].isnull()]"
   ]
  },
  {
   "cell_type": "code",
   "execution_count": 128,
   "metadata": {},
   "outputs": [
    {
     "data": {
      "text/html": [
       "<div>\n",
       "<style scoped>\n",
       "    .dataframe tbody tr th:only-of-type {\n",
       "        vertical-align: middle;\n",
       "    }\n",
       "\n",
       "    .dataframe tbody tr th {\n",
       "        vertical-align: top;\n",
       "    }\n",
       "\n",
       "    .dataframe thead th {\n",
       "        text-align: right;\n",
       "    }\n",
       "</style>\n",
       "<table border=\"1\" class=\"dataframe\">\n",
       "  <thead>\n",
       "    <tr style=\"text-align: right;\">\n",
       "      <th></th>\n",
       "      <th>quarter</th>\n",
       "      <th>state_code</th>\n",
       "      <th>product_code</th>\n",
       "      <th>package_size</th>\n",
       "      <th>_quarter_begin</th>\n",
       "      <th>number_of_prescriptions</th>\n",
       "      <th>product_fda_list_name</th>\n",
       "      <th>labeler_code</th>\n",
       "      <th>total_amount_reimbursed</th>\n",
       "      <th>units_reimbursed</th>\n",
       "      <th>period_covered</th>\n",
       "      <th>ndc</th>\n",
       "      <th>mat_x</th>\n",
       "      <th>opioid</th>\n",
       "      <th>mat_y</th>\n",
       "      <th>generic_name</th>\n",
       "    </tr>\n",
       "  </thead>\n",
       "  <tbody>\n",
       "    <tr>\n",
       "      <th>132</th>\n",
       "      <td>3</td>\n",
       "      <td>KY</td>\n",
       "      <td>0229</td>\n",
       "      <td>01</td>\n",
       "      <td>7/1</td>\n",
       "      <td>238</td>\n",
       "      <td>HYDROCODON</td>\n",
       "      <td>51862</td>\n",
       "      <td>6427.34</td>\n",
       "      <td>22498</td>\n",
       "      <td>2015</td>\n",
       "      <td>518620229</td>\n",
       "      <td>0</td>\n",
       "      <td>1</td>\n",
       "      <td>NaN</td>\n",
       "      <td>NaN</td>\n",
       "    </tr>\n",
       "    <tr>\n",
       "      <th>175</th>\n",
       "      <td>3</td>\n",
       "      <td>KY</td>\n",
       "      <td>2605</td>\n",
       "      <td>05</td>\n",
       "      <td>7/1</td>\n",
       "      <td>40</td>\n",
       "      <td>HYDROCODON</td>\n",
       "      <td>00591</td>\n",
       "      <td>988.06</td>\n",
       "      <td>2553</td>\n",
       "      <td>2015</td>\n",
       "      <td>005912605</td>\n",
       "      <td>0</td>\n",
       "      <td>1</td>\n",
       "      <td>NaN</td>\n",
       "      <td>NaN</td>\n",
       "    </tr>\n",
       "    <tr>\n",
       "      <th>200</th>\n",
       "      <td>3</td>\n",
       "      <td>KY</td>\n",
       "      <td>2612</td>\n",
       "      <td>05</td>\n",
       "      <td>7/1</td>\n",
       "      <td>137</td>\n",
       "      <td>HYDROCODON</td>\n",
       "      <td>00591</td>\n",
       "      <td>3232.17</td>\n",
       "      <td>10700</td>\n",
       "      <td>2015</td>\n",
       "      <td>005912612</td>\n",
       "      <td>0</td>\n",
       "      <td>1</td>\n",
       "      <td>NaN</td>\n",
       "      <td>NaN</td>\n",
       "    </tr>\n",
       "    <tr>\n",
       "      <th>228</th>\n",
       "      <td>3</td>\n",
       "      <td>KY</td>\n",
       "      <td>0227</td>\n",
       "      <td>01</td>\n",
       "      <td>7/1</td>\n",
       "      <td>69</td>\n",
       "      <td>HYDROCODON</td>\n",
       "      <td>51862</td>\n",
       "      <td>716.38</td>\n",
       "      <td>3265</td>\n",
       "      <td>2015</td>\n",
       "      <td>518620227</td>\n",
       "      <td>0</td>\n",
       "      <td>1</td>\n",
       "      <td>NaN</td>\n",
       "      <td>NaN</td>\n",
       "    </tr>\n",
       "    <tr>\n",
       "      <th>241</th>\n",
       "      <td>2</td>\n",
       "      <td>KY</td>\n",
       "      <td>6070</td>\n",
       "      <td>25</td>\n",
       "      <td>4/1</td>\n",
       "      <td>542</td>\n",
       "      <td>MORPHINE S</td>\n",
       "      <td>00641</td>\n",
       "      <td>1810.24</td>\n",
       "      <td>596</td>\n",
       "      <td>2015</td>\n",
       "      <td>006416070</td>\n",
       "      <td>0</td>\n",
       "      <td>1</td>\n",
       "      <td>NaN</td>\n",
       "      <td>NaN</td>\n",
       "    </tr>\n",
       "    <tr>\n",
       "      <th>...</th>\n",
       "      <td>...</td>\n",
       "      <td>...</td>\n",
       "      <td>...</td>\n",
       "      <td>...</td>\n",
       "      <td>...</td>\n",
       "      <td>...</td>\n",
       "      <td>...</td>\n",
       "      <td>...</td>\n",
       "      <td>...</td>\n",
       "      <td>...</td>\n",
       "      <td>...</td>\n",
       "      <td>...</td>\n",
       "      <td>...</td>\n",
       "      <td>...</td>\n",
       "      <td>...</td>\n",
       "      <td>...</td>\n",
       "    </tr>\n",
       "    <tr>\n",
       "      <th>203203</th>\n",
       "      <td>1</td>\n",
       "      <td>KY</td>\n",
       "      <td>0228</td>\n",
       "      <td>01</td>\n",
       "      <td>1/1</td>\n",
       "      <td>60</td>\n",
       "      <td>HYDROCODON</td>\n",
       "      <td>51862</td>\n",
       "      <td>203.12</td>\n",
       "      <td>2560</td>\n",
       "      <td>2018</td>\n",
       "      <td>518620228</td>\n",
       "      <td>0</td>\n",
       "      <td>1</td>\n",
       "      <td>NaN</td>\n",
       "      <td>NaN</td>\n",
       "    </tr>\n",
       "    <tr>\n",
       "      <th>203256</th>\n",
       "      <td>2</td>\n",
       "      <td>KY</td>\n",
       "      <td>0532</td>\n",
       "      <td>10</td>\n",
       "      <td>4/1</td>\n",
       "      <td>55</td>\n",
       "      <td>HYDROCODON</td>\n",
       "      <td>63739</td>\n",
       "      <td>28.21</td>\n",
       "      <td>12</td>\n",
       "      <td>2018</td>\n",
       "      <td>637390532</td>\n",
       "      <td>0</td>\n",
       "      <td>1</td>\n",
       "      <td>NaN</td>\n",
       "      <td>NaN</td>\n",
       "    </tr>\n",
       "    <tr>\n",
       "      <th>203304</th>\n",
       "      <td>2</td>\n",
       "      <td>KY</td>\n",
       "      <td>0601</td>\n",
       "      <td>01</td>\n",
       "      <td>4/1</td>\n",
       "      <td>111</td>\n",
       "      <td>HYDROCODON</td>\n",
       "      <td>68084</td>\n",
       "      <td>221.22</td>\n",
       "      <td>133</td>\n",
       "      <td>2018</td>\n",
       "      <td>680840601</td>\n",
       "      <td>0</td>\n",
       "      <td>1</td>\n",
       "      <td>NaN</td>\n",
       "      <td>NaN</td>\n",
       "    </tr>\n",
       "    <tr>\n",
       "      <th>203305</th>\n",
       "      <td>3</td>\n",
       "      <td>KY</td>\n",
       "      <td>3356</td>\n",
       "      <td>01</td>\n",
       "      <td>7/1</td>\n",
       "      <td>12</td>\n",
       "      <td>HYDROMORPH</td>\n",
       "      <td>00409</td>\n",
       "      <td>32.43</td>\n",
       "      <td>26</td>\n",
       "      <td>2018</td>\n",
       "      <td>004093356</td>\n",
       "      <td>0</td>\n",
       "      <td>1</td>\n",
       "      <td>NaN</td>\n",
       "      <td>NaN</td>\n",
       "    </tr>\n",
       "    <tr>\n",
       "      <th>203366</th>\n",
       "      <td>4</td>\n",
       "      <td>KY</td>\n",
       "      <td>1253</td>\n",
       "      <td>01</td>\n",
       "      <td>10/1</td>\n",
       "      <td>56</td>\n",
       "      <td>DEMEROL</td>\n",
       "      <td>00409</td>\n",
       "      <td>504.15</td>\n",
       "      <td>87</td>\n",
       "      <td>2018</td>\n",
       "      <td>004091253</td>\n",
       "      <td>0</td>\n",
       "      <td>1</td>\n",
       "      <td>NaN</td>\n",
       "      <td>NaN</td>\n",
       "    </tr>\n",
       "  </tbody>\n",
       "</table>\n",
       "<p>1077 rows × 16 columns</p>\n",
       "</div>"
      ],
      "text/plain": [
       "       quarter state_code product_code package_size _quarter_begin  \\\n",
       "132          3         KY         0229           01            7/1   \n",
       "175          3         KY         2605           05            7/1   \n",
       "200          3         KY         2612           05            7/1   \n",
       "228          3         KY         0227           01            7/1   \n",
       "241          2         KY         6070           25            4/1   \n",
       "...        ...        ...          ...          ...            ...   \n",
       "203203       1         KY         0228           01            1/1   \n",
       "203256       2         KY         0532           10            4/1   \n",
       "203304       2         KY         0601           01            4/1   \n",
       "203305       3         KY         3356           01            7/1   \n",
       "203366       4         KY         1253           01           10/1   \n",
       "\n",
       "       number_of_prescriptions product_fda_list_name labeler_code  \\\n",
       "132                        238            HYDROCODON        51862   \n",
       "175                         40            HYDROCODON        00591   \n",
       "200                        137            HYDROCODON        00591   \n",
       "228                         69            HYDROCODON        51862   \n",
       "241                        542            MORPHINE S        00641   \n",
       "...                        ...                   ...          ...   \n",
       "203203                      60            HYDROCODON        51862   \n",
       "203256                      55            HYDROCODON        63739   \n",
       "203304                     111            HYDROCODON        68084   \n",
       "203305                      12            HYDROMORPH        00409   \n",
       "203366                      56               DEMEROL        00409   \n",
       "\n",
       "       total_amount_reimbursed units_reimbursed period_covered        ndc  \\\n",
       "132                    6427.34            22498           2015  518620229   \n",
       "175                     988.06             2553           2015  005912605   \n",
       "200                    3232.17            10700           2015  005912612   \n",
       "228                     716.38             3265           2015  518620227   \n",
       "241                    1810.24              596           2015  006416070   \n",
       "...                        ...              ...            ...        ...   \n",
       "203203                  203.12             2560           2018  518620228   \n",
       "203256                   28.21               12           2018  637390532   \n",
       "203304                  221.22              133           2018  680840601   \n",
       "203305                   32.43               26           2018  004093356   \n",
       "203366                  504.15               87           2018  004091253   \n",
       "\n",
       "        mat_x  opioid  mat_y generic_name  \n",
       "132         0       1    NaN          NaN  \n",
       "175         0       1    NaN          NaN  \n",
       "200         0       1    NaN          NaN  \n",
       "228         0       1    NaN          NaN  \n",
       "241         0       1    NaN          NaN  \n",
       "...       ...     ...    ...          ...  \n",
       "203203      0       1    NaN          NaN  \n",
       "203256      0       1    NaN          NaN  \n",
       "203304      0       1    NaN          NaN  \n",
       "203305      0       1    NaN          NaN  \n",
       "203366      0       1    NaN          NaN  \n",
       "\n",
       "[1077 rows x 16 columns]"
      ]
     },
     "execution_count": 128,
     "metadata": {},
     "output_type": "execute_result"
    }
   ],
   "source": [
    "part[(part['opioid'] == 1)]"
   ]
  },
  {
   "cell_type": "code",
   "execution_count": 129,
   "metadata": {},
   "outputs": [],
   "source": [
    "play = merged_df[(merged_df['opioid'] == 0)]"
   ]
  },
  {
   "cell_type": "code",
   "execution_count": 130,
   "metadata": {},
   "outputs": [],
   "source": [
    "q = play[(play['mat_y']==0)]"
   ]
  },
  {
   "cell_type": "code",
   "execution_count": 131,
   "metadata": {},
   "outputs": [
    {
     "data": {
      "text/plain": [
       "array(['NALTREXONE', 'ACETAMINOP', 'PROMETHAZI', 'BUTALB-CAF',\n",
       "       'LOPERAMIDE', 'BUTALBITAL', 'TYLENOL-CO', 'RELISTOR', 'NALOXONE H',\n",
       "       'NALBUPHINE', 'BUTALB-ACE', 'ASCOMP WIT', 'MOVANTIK', 'NARCAN',\n",
       "       'VIBERZI', 'UNKNOWN', 'EVZIO', 'CONTRAVE', 'SYMPROIC'],\n",
       "      dtype=object)"
      ]
     },
     "execution_count": 131,
     "metadata": {},
     "output_type": "execute_result"
    }
   ],
   "source": [
    "q['product_fda_list_name'].unique()"
   ]
  },
  {
   "cell_type": "markdown",
   "metadata": {},
   "source": [
    "Some of the remaining Rx weren't recognized because the brand name was prescribed. Some aren't recognized because they are medications containing an opioid, but it is not the primary ingredient and therefore not listed in the 10-character 'product_fda_list_name' field. "
   ]
  },
  {
   "cell_type": "code",
   "execution_count": null,
   "metadata": {},
   "outputs": [],
   "source": []
  }
 ],
 "metadata": {
  "kernelspec": {
   "display_name": "Python 3",
   "language": "python",
   "name": "python3"
  },
  "language_info": {
   "codemirror_mode": {
    "name": "ipython",
    "version": 3
   },
   "file_extension": ".py",
   "mimetype": "text/x-python",
   "name": "python",
   "nbconvert_exporter": "python",
   "pygments_lexer": "ipython3",
   "version": "3.8.3"
  }
 },
 "nbformat": 4,
 "nbformat_minor": 4
}
